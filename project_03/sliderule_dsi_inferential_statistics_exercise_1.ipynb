{
 "cells": [
  {
   "cell_type": "markdown",
   "metadata": {},
   "source": [
    "# What is the True Normal Human Body Temperature? \n",
    "\n",
    "#### Background\n",
    "\n",
    "The mean normal body temperature was held to be 37$^{\\circ}$C or 98.6$^{\\circ}$F for more than 120 years since it was first conceptualized and reported by Carl Wunderlich in a famous 1868 book. But, is this value statistically correct?"
   ]
  },
  {
   "cell_type": "markdown",
   "metadata": {},
   "source": [
    "<h3>Exercises</h3>\n",
    "\n",
    "<p>In this exercise, you will analyze a dataset of human body temperatures and employ the concepts of hypothesis testing, confidence intervals, and statistical significance.</p>\n",
    "\n",
    "<p>Answer the following questions <b>in this notebook below and submit to your Github account</b>.</p> \n",
    "\n",
    "<ol>\n",
    "<li>  Is the distribution of body temperatures normal? \n",
    "    <ul>\n",
    "    <li> Although this is not a requirement for CLT to hold (read CLT carefully), it gives us some peace of mind that the population may also be normally distributed if we assume that this sample is representative of the population.\n",
    "    </ul>\n",
    "<li>  Is the sample size large? Are the observations independent?\n",
    "    <ul>\n",
    "    <li> Remember that this is a condition for the CLT, and hence the statistical tests we are using, to apply.\n",
    "    </ul>\n",
    "<li>  Is the true population mean really 98.6 degrees F?\n",
    "    <ul>\n",
    "    <li> Would you use a one-sample or two-sample test? Why?\n",
    "    <li> In this situation, is it appropriate to use the $t$ or $z$ statistic? \n",
    "    <li> Now try using the other test. How is the result be different? Why?\n",
    "    </ul>\n",
    "<li>  At what temperature should we consider someone's temperature to be \"abnormal\"?\n",
    "    <ul>\n",
    "    <li> Start by computing the margin of error and confidence interval.\n",
    "    </ul>\n",
    "<li>  Is there a significant difference between males and females in normal temperature?\n",
    "    <ul>\n",
    "    <li> What test did you use and why?\n",
    "    <li> Write a story with your conclusion in the context of the original problem.\n",
    "    </ul>\n",
    "</ol>\n",
    "\n",
    "You can include written notes in notebook cells using Markdown: \n",
    "   - In the control panel at the top, choose Cell > Cell Type > Markdown\n",
    "   - Markdown syntax: http://nestacms.com/docs/creating-content/markdown-cheat-sheet\n",
    "\n",
    "#### Resources\n",
    "\n",
    "+ Information and data sources: http://www.amstat.org/publications/jse/datasets/normtemp.txt, http://www.amstat.org/publications/jse/jse_data_archive.htm\n",
    "+ Markdown syntax: http://nestacms.com/docs/creating-content/markdown-cheat-sheet"
   ]
  },
  {
   "cell_type": "code",
   "execution_count": 1,
   "metadata": {
    "collapsed": true
   },
   "outputs": [],
   "source": [
    "import numpy as np\n",
    "import pandas as pd\n",
    "import matplotlib.pyplot as plt\n",
    "import seaborn as sns\n",
    "import scipy.stats as st\n",
    "%matplotlib inline"
   ]
  },
  {
   "cell_type": "code",
   "execution_count": 2,
   "metadata": {
    "collapsed": false
   },
   "outputs": [
    {
     "data": {
      "text/html": [
       "<div>\n",
       "<table border=\"1\" class=\"dataframe\">\n",
       "  <thead>\n",
       "    <tr style=\"text-align: right;\">\n",
       "      <th></th>\n",
       "      <th>temperature</th>\n",
       "      <th>gender</th>\n",
       "      <th>heart_rate</th>\n",
       "    </tr>\n",
       "  </thead>\n",
       "  <tbody>\n",
       "    <tr>\n",
       "      <th>0</th>\n",
       "      <td>99.3</td>\n",
       "      <td>F</td>\n",
       "      <td>68.0</td>\n",
       "    </tr>\n",
       "    <tr>\n",
       "      <th>1</th>\n",
       "      <td>98.4</td>\n",
       "      <td>F</td>\n",
       "      <td>81.0</td>\n",
       "    </tr>\n",
       "    <tr>\n",
       "      <th>2</th>\n",
       "      <td>97.8</td>\n",
       "      <td>M</td>\n",
       "      <td>73.0</td>\n",
       "    </tr>\n",
       "    <tr>\n",
       "      <th>3</th>\n",
       "      <td>99.2</td>\n",
       "      <td>F</td>\n",
       "      <td>66.0</td>\n",
       "    </tr>\n",
       "    <tr>\n",
       "      <th>4</th>\n",
       "      <td>98.0</td>\n",
       "      <td>F</td>\n",
       "      <td>73.0</td>\n",
       "    </tr>\n",
       "  </tbody>\n",
       "</table>\n",
       "</div>"
      ],
      "text/plain": [
       "   temperature gender  heart_rate\n",
       "0         99.3      F        68.0\n",
       "1         98.4      F        81.0\n",
       "2         97.8      M        73.0\n",
       "3         99.2      F        66.0\n",
       "4         98.0      F        73.0"
      ]
     },
     "execution_count": 2,
     "metadata": {},
     "output_type": "execute_result"
    }
   ],
   "source": [
    "# read in the data as a pandas dataframe \n",
    "\n",
    "df = pd.read_csv('data/human_body_temperature.csv')\n",
    "df.head()"
   ]
  },
  {
   "cell_type": "code",
   "execution_count": 3,
   "metadata": {
    "collapsed": true
   },
   "outputs": [],
   "source": [
    "# create two separate dataframes according to the gender \n",
    "\n",
    "males = df[df.gender == 'M']\n",
    "females = df[df.gender == 'F']"
   ]
  },
  {
   "cell_type": "code",
   "execution_count": 4,
   "metadata": {
    "collapsed": false,
    "scrolled": false
   },
   "outputs": [
    {
     "data": {
      "image/png": "[encoded data removed]",
      "text/plain": [
       "<matplotlib.figure.Figure at 0x11670d910>"
      ]
     },
     "metadata": {},
     "output_type": "display_data"
    }
   ],
   "source": [
    "# visualize the distibution of human body temperature \n",
    "\n",
    "fig, ax = plt.subplots(figsize=(8,6))\n",
    "ax = sns.distplot(df.temperature)\n",
    "ax.set_xlabel('body temperature', fontsize=15)\n",
    "ax.set_ylabel('frequency', fontsize=15)\n",
    "ax.set_title('distribution of the human body temperature', fontsize=18)\n",
    "fig.tight_layout()\n",
    "None"
   ]
  },
  {
   "cell_type": "markdown",
   "metadata": {},
   "source": [
    "<div class=\"alert alert-info\">\n",
    "\n",
    "The data is roughly normally distributed. It is also possible that the distribution is a bimodal distribution, but the peaks are too close. This indeterminacy is not a problem, since CLT applies anyway. The sample size is large: $130 >> 30$. The observations are independent, but there may be confounding factors introduced by sampling bias - no information is provided regarding how the samples were chosen. \n",
    "\n",
    "</div>"
   ]
  },
  {
   "cell_type": "code",
   "execution_count": 5,
   "metadata": {
    "collapsed": false
   },
   "outputs": [
    {
     "name": "stdout",
     "output_type": "stream",
     "text": [
      "mean human body temperature: 98.2492307692 F\n",
      "\n",
      "95% confidence interval using the t statistic: (98.122002905608042, 98.376458632853513)\n",
      "95% confidence interval using the z statistic: (98.123196428181657, 98.375265110279898)\n",
      "\n",
      "p-value that the true population mean is 98.6: 1.20531602078e-07 (using the t-test)\n",
      "p-value that the true population mean is 98.6: 2.45107850706e-08 (using the z-test)\n",
      "\n",
      "effect size, expressed as Cohen's d: -0.478419651247\n"
     ]
    }
   ],
   "source": [
    "# 95% confidence interval for the mean temperature: \n",
    "# using both the t statistic and the z-statistic\n",
    "# (one sample t-test)\n",
    "\n",
    "sample_dof = len(df) - 1\n",
    "sample_mean = df.temperature.mean()\n",
    "sample_std = df.temperature.std()\n",
    "sample_stderr = sample_std / np.sqrt(len(df))\n",
    "\n",
    "t_crit = st.t.isf(0.025, sample_dof)\n",
    "margin_of_error = t_crit*sample_stderr\n",
    "confidence_interval = (sample_mean - margin_of_error, sample_mean + margin_of_error)\n",
    "print 'mean human body temperature:', sample_mean, 'F\\n'\n",
    "print '95% confidence interval using the t statistic:', confidence_interval\n",
    "\n",
    "# 95% confidence interval - using the z statistic\n",
    "\n",
    "z_crit = st.norm.isf(0.025)\n",
    "margin_of_error = z_crit*sample_stderr\n",
    "confidence_interval = (sample_mean - margin_of_error, sample_mean + margin_of_error)\n",
    "print '95% confidence interval using the z statistic:', confidence_interval\n",
    "print ''\n",
    "\n",
    "# is the true population mean really 98.6 F? \n",
    "\n",
    "tvalue = (sample_mean - 98.6)/sample_stderr\n",
    "pvalue = st.t.sf(abs(tvalue), sample_dof)\n",
    "print 'p-value that the true population mean is 98.6:', pvalue, '(using the t-test)'\n",
    "zvalue = (sample_mean - 98.6)/sample_stderr\n",
    "pvalue = st.norm.sf(abs(zvalue))\n",
    "print 'p-value that the true population mean is 98.6:', pvalue, '(using the z-test)'\n",
    "print ''\n",
    "\n",
    "# effect size \n",
    "\n",
    "print 'effect size, expressed as Cohen\\'s d:', (sample_mean - 98.6)/sample_std"
   ]
  },
  {
   "cell_type": "markdown",
   "metadata": {},
   "source": [
    "<div class=\"alert alert-info\">\n",
    "\n",
    "Strictly speaking, the $t$-statistic is the appropriate statistic here, but because the sample size is significantly larger than $30$, we do not expect a significant difference between the results whether we use the $t$-statistic or the $z$-statistic. The confidence interval using the $z$-statistic is slightly narrower than the confidence interval obtained using the $t$-statistic, as expected. Based on the $p$-values, it appears that it is extremely unlikely that the true population mean is $98.6$ degrees F. The effect size for the difference between the sample mean and the mean obtained by Wunderlich, expressed as Cohen's $d$, is $-0.48$. \n",
    "\n",
    "</div>"
   ]
  },
  {
   "cell_type": "code",
   "execution_count": 6,
   "metadata": {
    "collapsed": false
   },
   "outputs": [
    {
     "name": "stdout",
     "output_type": "stream",
     "text": [
      "99% confidence interval using the z statistic: (98.083593567992111, 98.414867970469444)\n"
     ]
    }
   ],
   "source": [
    "# abnormal temperatures: outside the 99% confidence intervals \n",
    "zvalue = st.norm.isf(0.005)\n",
    "confidence_interval = (sample_mean - zvalue*sample_stderr, sample_mean + zvalue*sample_stderr)\n",
    "print '99% confidence interval using the z statistic:', confidence_interval"
   ]
  },
  {
   "cell_type": "markdown",
   "metadata": {},
   "source": [
    "<div class=\"alert alert-info\">\n",
    "\n",
    "Let's declare the temperatures outside the $99\\%$ confidence interval to be abnormal. Then the temperatures below $98.08$ F and the temperatures above $98.42$ F are abnormal. \n",
    "\n",
    "</div>"
   ]
  },
  {
   "cell_type": "code",
   "execution_count": 7,
   "metadata": {
    "collapsed": false
   },
   "outputs": [
    {
     "name": "stdout",
     "output_type": "stream",
     "text": [
      "mean body temperature for males: 98.1046153846 F\n",
      "mean body temperature for females: 98.3938461538 F\n",
      "effect size, expressed as Cohen's d = -0.40089173786\n",
      "p-value for independent samples t-test: 0.0119659415612\n"
     ]
    }
   ],
   "source": [
    "# independent samples t-test (two samples t-test) to figure out\n",
    "# whether there is a significant difference between normal temperatures for males and females\n",
    "\n",
    "males_dof = float(len(males) - 1)\n",
    "males_mean = males.temperature.mean()\n",
    "males_std = males.temperature.std()\n",
    "print 'mean body temperature for males:', males_mean, 'F'\n",
    "\n",
    "females_dof = float(len(females) - 1)\n",
    "females_mean = females.temperature.mean()\n",
    "females_std = females.temperature.std()\n",
    "print 'mean body temperature for females:', females_mean, 'F'\n",
    "\n",
    "stderr = np.sqrt(males_std**2 / float(len(males)) + females_std**2 / float(len(females)))\n",
    "total_dof = males_dof + females_dof\n",
    "\n",
    "pooled_variance = (males_std**2 * males_dof + females_std**2 * females_dof) / total_dof\n",
    "cohen_d = (males_mean - females_mean)/ np.sqrt(pooled_variance)\n",
    "\n",
    "tvalue = (males_mean - females_mean) / stderr\n",
    "\n",
    "pvalue = st.t.cdf(-abs(tvalue), total_dof)\n",
    "\n",
    "print 'effect size, expressed as Cohen\\'s d =', cohen_d\n",
    "print 'p-value for independent samples t-test:', pvalue"
   ]
  },
  {
   "cell_type": "markdown",
   "metadata": {},
   "source": [
    "<div class=\"alert alert-info\">\n",
    "\n",
    "By the independent samples $t$-test, the normal body temperature for males is less than the normal body temperature for females. The effect size, expressed as Cohen's $d$, is $-0.4$. Since the $p$-value is less than $0.012$, we conclude that the result is statistically significant at an $\\alpha$ level of $0.05$. \n",
    "\n",
    "</div>"
   ]
  },
  {
   "cell_type": "markdown",
   "metadata": {},
   "source": [
    "<div class=\"alert alert-info\">\n",
    "\n",
    "<h3> Concluding Remarks: </h3>\n",
    "\n",
    "<p> It appears extremely unlikely that the true mean temperature for the population is $98.6$ F. Further investigation is needed regarding sampling biases for the data obtained for this study as well as the data obtained by Wunderlich. If there are no sampling biases present, then it is indeed possible that the mean body temperatures have decreased in the span of a century since Wunderlich's book came out. Perhaps it reflects the change from a relatively more active lifestyle to a more sedentary lifestyle over the course of the century. </p>\n",
    "\n",
    "</div>"
   ]
  }
 ],
 "metadata": {
  "anaconda-cloud": {},
  "kernelspec": {
   "display_name": "Python [default]",
   "language": "python",
   "name": "python2"
  },
  "language_info": {
   "codemirror_mode": {
    "name": "ipython",
    "version": 2
   },
   "file_extension": ".py",
   "mimetype": "text/x-python",
   "name": "python",
   "nbconvert_exporter": "python",
   "pygments_lexer": "ipython2",
   "version": "2.7.13"
  }
 },
 "nbformat": 4,
 "nbformat_minor": 0
}
