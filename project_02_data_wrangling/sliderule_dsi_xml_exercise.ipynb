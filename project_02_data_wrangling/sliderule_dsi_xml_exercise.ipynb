{
 "cells": [
  {
   "cell_type": "markdown",
   "metadata": {},
   "source": [
    "# XML example and exercise\n",
    "****\n",
    "+ study examples of accessing nodes in XML tree structure  \n",
    "+ work on exercise to be completed and submitted\n",
    "****\n",
    "+ reference: https://docs.python.org/2.7/library/xml.etree.elementtree.html\n",
    "+ data source: http://www.dbis.informatik.uni-goettingen.de/Mondial\n",
    "****"
   ]
  },
  {
   "cell_type": "code",
   "execution_count": 1,
   "metadata": {
    "collapsed": true
   },
   "outputs": [],
   "source": [
    "import numpy as np\n",
    "import pandas as pd\n",
    "from xml.etree import ElementTree as ET"
   ]
  },
  {
   "cell_type": "markdown",
   "metadata": {},
   "source": [
    "## XML example\n",
    "\n",
    "+ for details about tree traversal and iterators, see https://docs.python.org/2.7/library/xml.etree.elementtree.html"
   ]
  },
  {
   "cell_type": "code",
   "execution_count": 2,
   "metadata": {
    "collapsed": true
   },
   "outputs": [],
   "source": [
    "document_tree = ET.parse( './data/mondial_database_less.xml' )"
   ]
  },
  {
   "cell_type": "code",
   "execution_count": 3,
   "metadata": {
    "collapsed": false
   },
   "outputs": [
    {
     "name": "stdout",
     "output_type": "stream",
     "text": [
      "Albania\n",
      "Greece\n",
      "Macedonia\n",
      "Serbia\n",
      "Montenegro\n",
      "Kosovo\n",
      "Andorra\n"
     ]
    }
   ],
   "source": [
    "# print names of all countries\n",
    "for child in document_tree.getroot():\n",
    "    print child.find('name').text"
   ]
  },
  {
   "cell_type": "code",
   "execution_count": 4,
   "metadata": {
    "collapsed": false
   },
   "outputs": [
    {
     "name": "stdout",
     "output_type": "stream",
     "text": [
      "* Albania: Tirana, Shkodër, Durrës, Vlorë, Elbasan, Korçë\n",
      "* Greece: Komotini, Kavala, Athina, Peiraias, Peristeri, Acharnes, Patra, Kozani, Kerkyra, Ioannina, Thessaloniki, Iraklio, Chania, Ermoupoli, Rhodes, Tripoli, Lamia, Chalkida, Larissa, Volos, Mytilini, Karyes\n",
      "* Macedonia: Skopje, Kumanovo\n",
      "* Serbia: Beograd, Novi Sad, Niš\n",
      "* Montenegro: Podgorica\n",
      "* Kosovo: Prishtine\n",
      "* Andorra: Andorra la Vella\n"
     ]
    }
   ],
   "source": [
    "# print names of all countries and their cities\n",
    "for element in document_tree.iterfind('country'):\n",
    "    print '* ' + element.find('name').text + ':',\n",
    "    capitals_string = ''\n",
    "    for subelement in element.getiterator('city'):\n",
    "        capitals_string += subelement.find('name').text + ', '\n",
    "    print capitals_string[:-2]"
   ]
  },
  {
   "cell_type": "markdown",
   "metadata": {},
   "source": [
    "****\n",
    "## XML exercise\n",
    "\n",
    "Using data in 'data/mondial_database.xml', the examples above, and refering to https://docs.python.org/2.7/library/xml.etree.elementtree.html, find\n",
    "\n",
    "1. 10 countries with the lowest infant mortality rates\n",
    "2. 10 cities with the largest population\n",
    "3. 10 ethnic groups with the largest overall populations (sum of best/latest estimates over all countries)\n",
    "4. name and country of a) longest river, b) largest lake and c) airport at highest elevation"
   ]
  },
  {
   "cell_type": "code",
   "execution_count": 5,
   "metadata": {
    "collapsed": true
   },
   "outputs": [],
   "source": [
    "document = ET.parse( './data/mondial_database.xml' )\n",
    "root = document.getroot()"
   ]
  },
  {
   "cell_type": "code",
   "execution_count": 6,
   "metadata": {
    "collapsed": false
   },
   "outputs": [
    {
     "data": {
      "text/plain": [
       "Monaco            1.81\n",
       "Japan             2.13\n",
       "Bermuda           2.48\n",
       "Norway            2.48\n",
       "Singapore         2.53\n",
       "Sweden            2.60\n",
       "Czech Republic    2.63\n",
       "Hong Kong         2.73\n",
       "Macao             3.13\n",
       "Iceland           3.15\n",
       "Name: infant_mortality, dtype: float64"
      ]
     },
     "execution_count": 6,
     "metadata": {},
     "output_type": "execute_result"
    }
   ],
   "source": [
    "# solution to problem 1: top 10 countries with the lowest infant mortality\n",
    "\n",
    "countrynames = []\n",
    "infant_mortalities = []\n",
    "\n",
    "for country in root.findall('country'):\n",
    "    try:\n",
    "        countrynames.append(country.find('name').text)\n",
    "    except:\n",
    "        countrynames.append(np.nan)\n",
    "    try:\n",
    "        infant_mortalities.append(float(country.find('infant_mortality').text))\n",
    "    except:\n",
    "        infant_mortalities.append(np.nan)\n",
    "\n",
    "s = pd.Series(data=infant_mortalities, index=countrynames, dtype=float, name='infant_mortality')\n",
    "s.sort_values(ascending=True).head(10)"
   ]
  },
  {
   "cell_type": "code",
   "execution_count": 7,
   "metadata": {
    "collapsed": false
   },
   "outputs": [
    {
     "data": {
      "text/plain": [
       "Seoul              9708483.0\n",
       "Al Qahirah         8471859.0\n",
       "Bangkok            7506700.0\n",
       "Hong Kong          7055071.0\n",
       "Ho Chi Minh        5968384.0\n",
       "Singapore          5076700.0\n",
       "Al Iskandariyah    4123869.0\n",
       "New Taipei         3939305.0\n",
       "Busan              3403135.0\n",
       "Pyongyang          3255288.0\n",
       "Name: city_populations, dtype: float64"
      ]
     },
     "execution_count": 7,
     "metadata": {},
     "output_type": "execute_result"
    }
   ],
   "source": [
    "# solution to problem 2: top 10 cities with the largest population \n",
    "# cities seem to have multiple population values \n",
    "# using the most recent of all of the population values for this problem \n",
    "\n",
    "citynames = []\n",
    "populations = []\n",
    "for country in root.findall('country'):\n",
    "    for city in country.findall('city'):\n",
    "        \n",
    "        # figure out the most recent population of the city and add it to the lists of citynames and populations\n",
    "        most_recent_year = 0\n",
    "        most_recent_population = 0\n",
    "        for population in city.findall('population'):\n",
    "            if float(population.attrib['year']) > most_recent_year:\n",
    "                most_recent_year = float(population.attrib['year'])\n",
    "                most_recent_population = float(population.text)\n",
    "        populations.append(most_recent_population)\n",
    "        citynames.append(city.find('name').text)\n",
    "        \n",
    "# process the data to answer the question \n",
    "s = pd.Series(data=populations, index=citynames, name='city_populations')\n",
    "s.sort_values(ascending=False).head(10)"
   ]
  },
  {
   "cell_type": "code",
   "execution_count": 8,
   "metadata": {
    "collapsed": false
   },
   "outputs": [
    {
     "data": {
      "text/html": [
       "<div>\n",
       "<table border=\"1\" class=\"dataframe\">\n",
       "  <thead>\n",
       "    <tr style=\"text-align: right;\">\n",
       "      <th></th>\n",
       "      <th>population</th>\n",
       "    </tr>\n",
       "    <tr>\n",
       "      <th>ethnicgroup</th>\n",
       "      <th></th>\n",
       "    </tr>\n",
       "  </thead>\n",
       "  <tbody>\n",
       "    <tr>\n",
       "      <th>Han Chinese</th>\n",
       "      <td>1.245059e+09</td>\n",
       "    </tr>\n",
       "    <tr>\n",
       "      <th>Indo-Aryan</th>\n",
       "      <td>8.718156e+08</td>\n",
       "    </tr>\n",
       "    <tr>\n",
       "      <th>European</th>\n",
       "      <td>4.948722e+08</td>\n",
       "    </tr>\n",
       "    <tr>\n",
       "      <th>African</th>\n",
       "      <td>3.183251e+08</td>\n",
       "    </tr>\n",
       "    <tr>\n",
       "      <th>Dravidian</th>\n",
       "      <td>3.027137e+08</td>\n",
       "    </tr>\n",
       "    <tr>\n",
       "      <th>Mestizo</th>\n",
       "      <td>1.577344e+08</td>\n",
       "    </tr>\n",
       "    <tr>\n",
       "      <th>Bengali</th>\n",
       "      <td>1.467769e+08</td>\n",
       "    </tr>\n",
       "    <tr>\n",
       "      <th>Russian</th>\n",
       "      <td>1.318570e+08</td>\n",
       "    </tr>\n",
       "    <tr>\n",
       "      <th>Japanese</th>\n",
       "      <td>1.265342e+08</td>\n",
       "    </tr>\n",
       "    <tr>\n",
       "      <th>Malay</th>\n",
       "      <td>1.219936e+08</td>\n",
       "    </tr>\n",
       "  </tbody>\n",
       "</table>\n",
       "</div>"
      ],
      "text/plain": [
       "               population\n",
       "ethnicgroup              \n",
       "Han Chinese  1.245059e+09\n",
       "Indo-Aryan   8.718156e+08\n",
       "European     4.948722e+08\n",
       "African      3.183251e+08\n",
       "Dravidian    3.027137e+08\n",
       "Mestizo      1.577344e+08\n",
       "Bengali      1.467769e+08\n",
       "Russian      1.318570e+08\n",
       "Japanese     1.265342e+08\n",
       "Malay        1.219936e+08"
      ]
     },
     "execution_count": 8,
     "metadata": {},
     "output_type": "execute_result"
    }
   ],
   "source": [
    "# solution to problem 3: top 10 ethnic groups with the largest overall population \n",
    "\n",
    "ethnic_groups = []\n",
    "\n",
    "for country in root.findall('country'):\n",
    "    \n",
    "    # figure out the most recent population of the country\n",
    "    most_recent_year = 0\n",
    "    most_recent_population = 0\n",
    "    for population in country.findall('population'):\n",
    "        if float(population.attrib['year']) > most_recent_year:\n",
    "            most_recent_year = float(population.attrib['year'])\n",
    "            most_recent_population = float(population.text)\n",
    "\n",
    "    # figure out the ethnic groups and their populations in this coutry and append it to ethnic_groups list\n",
    "    mylist = [[x.text, float(x.attrib['percentage']) * most_recent_population / 100.] for x in country.findall('ethnicgroup')]\n",
    "    for group in mylist:\n",
    "        ethnic_groups.append(group)\n",
    "        \n",
    "# process the data to answer the question\n",
    "ethnic_groups = pd.DataFrame(ethnic_groups, columns=['ethnicgroup', 'population'])\n",
    "ethnic_groups.groupby('ethnicgroup').agg(np.sum).sort_values(by='population', ascending=False).head(10)"
   ]
  },
  {
   "cell_type": "code",
   "execution_count": 9,
   "metadata": {
    "collapsed": false
   },
   "outputs": [
    {
     "name": "stdout",
     "output_type": "stream",
     "text": [
      "top five airport elevations:\n",
      "\n",
      "                                       countries  elevation\n",
      "airport                                                    \n",
      "El Alto Intl                                 BOL     4063.0\n",
      "Lhasa-Gonggar                                 CN     4005.0\n",
      "Yushu Batang                                  CN     3963.0\n",
      "Juliaca                                       PE     3827.0\n",
      "Teniente Alejandro Velasco Astete Intl        PE     3311.0\n",
      "\n",
      "\n",
      "top five river lengths:\n",
      "\n",
      "         countries  length\n",
      "river                     \n",
      "Amazonas  CO BR PE  6448.0\n",
      "Jangtse         CN  6380.0\n",
      "Hwangho         CN  4845.0\n",
      "Lena             R  4400.0\n",
      "Zaire      RCB ZRE  4374.0\n",
      "\n",
      "\n",
      "top five lake areas:\n",
      "\n",
      "                   area       countries\n",
      "lake                                   \n",
      "Caspian Sea    386400.0  R AZ KAZ IR TM\n",
      "Lake Superior   82103.0         CDN USA\n",
      "Lake Victoria   68870.0     EAT EAK EAU\n",
      "Lake Huron      59600.0         CDN USA\n",
      "Lake Michigan   57800.0             USA\n",
      "\n",
      "\n"
     ]
    }
   ],
   "source": [
    "# solution to problem 4: longest river, largest lake and airport at the highest elevation \n",
    "# printing top five instead of just the top candidate \n",
    "\n",
    "mydict = {'river' : 'length', 'lake' : 'area', 'airport' : 'elevation'}\n",
    "\n",
    "def top_five(mytuple):\n",
    "    '''figure out the top five mytuple[1]s of mytuple[0]s'''\n",
    "    names = []\n",
    "    countries = []\n",
    "    y = []\n",
    "    for thing in root.findall(mytuple[0]):\n",
    "        try:\n",
    "            names.append(thing.find('name').text)\n",
    "        except:\n",
    "            names.append(np.nan)\n",
    "        try:\n",
    "            countries.append(thing.attrib['country'])\n",
    "        except:\n",
    "            countries.append(np.nan)\n",
    "        try:\n",
    "            y.append(float(thing.find(mytuple[1]).text))\n",
    "        except:\n",
    "            y.append(np.nan)\n",
    "    mydata = {mytuple[0] : names, mytuple[1] : y, 'countries': countries}\n",
    "    df = pd.DataFrame(mydata)\n",
    "    return df.sort_values(by=mytuple[1] ,ascending=False).head().set_index(mytuple[0])\n",
    "\n",
    "for mytuple in mydict.iteritems():\n",
    "    print 'top five ' + mytuple[0] + ' ' + mytuple[1] + 's:\\n'\n",
    "    print top_five(mytuple)\n",
    "    print '\\n'"
   ]
  }
 ],
 "metadata": {
  "anaconda-cloud": {},
  "kernelspec": {
   "display_name": "Python [default]",
   "language": "python",
   "name": "python2"
  },
  "language_info": {
   "codemirror_mode": {
    "name": "ipython",
    "version": 2
   },
   "file_extension": ".py",
   "mimetype": "text/x-python",
   "name": "python",
   "nbconvert_exporter": "python",
   "pygments_lexer": "ipython2",
   "version": "2.7.13"
  }
 },
 "nbformat": 4,
 "nbformat_minor": 0
}
